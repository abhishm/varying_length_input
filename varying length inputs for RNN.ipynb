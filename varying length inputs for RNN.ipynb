{
 "cells": [
  {
   "cell_type": "markdown",
   "metadata": {},
   "source": [
    "This post is inspired by the [blog](http://r2rt.com/recurrent-neural-networks-in-tensorflow-iii-variable-length-sequences.html).\n",
    "\n",
    "In this post, I will use the blog data to predict the age and genders of the bloggers. "
   ]
  },
  {
   "cell_type": "code",
   "execution_count": 1,
   "metadata": {
    "collapsed": false
   },
   "outputs": [],
   "source": [
    "import tensorflow as tf\n",
    "import pandas as pd\n",
    "import blogs_data\n",
    "import numpy as np\n",
    "import matplotlib.pyplot as plt\n",
    "%matplotlib inline\n",
    "import time"
   ]
  },
  {
   "cell_type": "markdown",
   "metadata": {},
   "source": [
    "Shuffling the data frame and resetting the index"
   ]
  },
  {
   "cell_type": "code",
   "execution_count": 2,
   "metadata": {
    "collapsed": true
   },
   "outputs": [],
   "source": [
    "df = blogs_data.loadBlogs().sample(frac=1).reset_index(drop=True)"
   ]
  },
  {
   "cell_type": "code",
   "execution_count": 3,
   "metadata": {
    "collapsed": true
   },
   "outputs": [],
   "source": [
    "vocab, reverse_vocab = blogs_data.loadVocab()"
   ]
  },
  {
   "cell_type": "markdown",
   "metadata": {},
   "source": [
    "Train-Test splitting of the data-frame"
   ]
  },
  {
   "cell_type": "code",
   "execution_count": 4,
   "metadata": {
    "collapsed": true
   },
   "outputs": [],
   "source": [
    "train_len, test_len = int(0.8 * len(df)), int(0.2 * len(df))\n",
    "train, test = df[:train_len], df[train_len:]"
   ]
  },
  {
   "cell_type": "code",
   "execution_count": 5,
   "metadata": {
    "collapsed": false
   },
   "outputs": [
    {
     "data": {
      "text/html": [
       "<div>\n",
       "<table border=\"1\" class=\"dataframe\">\n",
       "  <thead>\n",
       "    <tr style=\"text-align: right;\">\n",
       "      <th></th>\n",
       "      <th>post_id</th>\n",
       "      <th>gender</th>\n",
       "      <th>age_bracket</th>\n",
       "      <th>string</th>\n",
       "      <th>as_numbers</th>\n",
       "      <th>length</th>\n",
       "    </tr>\n",
       "  </thead>\n",
       "  <tbody>\n",
       "    <tr>\n",
       "      <th>0</th>\n",
       "      <td>61639</td>\n",
       "      <td>0</td>\n",
       "      <td>1</td>\n",
       "      <td>come to mind &lt;UNK&gt; ’s hard to keep your brain ...</td>\n",
       "      <td>[164, 5, 264, 0, 206, 254, 5, 239, 78, 963, 11...</td>\n",
       "      <td>22</td>\n",
       "    </tr>\n",
       "    <tr>\n",
       "      <th>1</th>\n",
       "      <td>131222</td>\n",
       "      <td>1</td>\n",
       "      <td>1</td>\n",
       "      <td>technically &lt;UNK&gt; \" &lt;UNK&gt; rolled his eyes and ...</td>\n",
       "      <td>[3940, 0, 18, 0, 3109, 70, 363, 6, 1408, 46, 2...</td>\n",
       "      <td>12</td>\n",
       "    </tr>\n",
       "  </tbody>\n",
       "</table>\n",
       "</div>"
      ],
      "text/plain": [
       "   post_id  gender  age_bracket  \\\n",
       "0    61639       0            1   \n",
       "1   131222       1            1   \n",
       "\n",
       "                                              string  \\\n",
       "0  come to mind <UNK> ’s hard to keep your brain ...   \n",
       "1  technically <UNK> \" <UNK> rolled his eyes and ...   \n",
       "\n",
       "                                          as_numbers  length  \n",
       "0  [164, 5, 264, 0, 206, 254, 5, 239, 78, 963, 11...      22  \n",
       "1  [3940, 0, 18, 0, 3109, 70, 363, 6, 1408, 46, 2...      12  "
      ]
     },
     "execution_count": 5,
     "metadata": {},
     "output_type": "execute_result"
    }
   ],
   "source": [
    "train.head(2)"
   ]
  },
  {
   "cell_type": "markdown",
   "metadata": {},
   "source": [
    "Our goal is to build a RNN that takes input from the as_numbers colum of the `dataframe` and predicts the output from the gender and the age_bracket. Therefore, our first goal is to build an iterator that can give the input and target for the RNN. "
   ]
  },
  {
   "cell_type": "code",
   "execution_count": 6,
   "metadata": {
    "collapsed": true
   },
   "outputs": [],
   "source": [
    "class SimpleIterator(object):\n",
    "    def __init__(self, df, batch_size):\n",
    "        self.df = df.sample(frac=1).reset_index(drop=True)\n",
    "        self.batch_size = batch_size\n",
    "        \n",
    "    def __iter__(self):\n",
    "        index = 0\n",
    "        while index + self.batch_size -1 < len(df):\n",
    "            batch = self.df.ix[index:index + self.batch_size]\n",
    "            input_ = batch[\"as_numbers\"]\n",
    "            target = batch[\"gender\"] * 3 + batch[\"age_bracket\"]\n",
    "            length = batch[\"length\"]\n",
    "            yield input_, target, length\n",
    "            index += self.batch_size\n",
    "        "
   ]
  },
  {
   "cell_type": "code",
   "execution_count": 7,
   "metadata": {
    "collapsed": false
   },
   "outputs": [
    {
     "name": "stdout",
     "output_type": "stream",
     "text": [
      "input_sequnece\n",
      " 0    [3, 144, 28, 388, 5, 95, 6274, 1, 3290, 1, 6, ...\n",
      "1    [7, 202, 74, 496, 9, 36, 247, 4, 187, 8, 0, 16...\n",
      "2                [62, 15, 95, 4, 451, 26, 3357, 0, 50]\n",
      "3    [6, 55, 88, 4152, 172, 79, 3, 391, 55, 1, 1018...\n",
      "4    [8852, 52, 100, 8, 336, 181, 6114, 5, 336, 181...\n",
      "5    [21, 182, 673, 24, 199, 132, 189, 5, 30, 45, 1...\n",
      "Name: as_numbers, dtype: object \n",
      "\n",
      "\n",
      "Target\n",
      " 0    1\n",
      "1    1\n",
      "2    1\n",
      "3    3\n",
      "4    3\n",
      "5    1\n",
      "dtype: int64 \n",
      "\n",
      "\n",
      "length\n",
      " 0    23\n",
      "1    24\n",
      "2     9\n",
      "3    27\n",
      "4    14\n",
      "5    12\n",
      "Name: length, dtype: int64 \n",
      "\n",
      "\n"
     ]
    }
   ],
   "source": [
    "train_data = iter(SimpleIterator(train, 5))\n",
    "data = next(train_data)\n",
    "print(\"input_sequnece\\n\", data[0], \"\\n\\n\")\n",
    "print(\"Target\\n\", data[1], \"\\n\\n\")\n",
    "print(\"length\\n\", data[2], \"\\n\\n\")"
   ]
  },
  {
   "cell_type": "markdown",
   "metadata": {},
   "source": [
    "As is evident from the above samples that length of the input sequence varies a lot, consequently we cannot feed it into a tensorflow graph. Therefore, we need to pad all the input sequences such that they have the same size as the maximum length sequence in the input."
   ]
  },
  {
   "cell_type": "code",
   "execution_count": 8,
   "metadata": {
    "collapsed": false
   },
   "outputs": [],
   "source": [
    "class PaddedIterator(object):\n",
    "    def __init__(self, df, batch_size):\n",
    "        self.df = df.sample(frac=1).reset_index(drop=True)\n",
    "        self.batch_size = batch_size\n",
    "        self.index = 0\n",
    "    def __iter__(self):\n",
    "        while self.index + self.batch_size < len(self.df):\n",
    "            yield self.padding(self.df.ix[self.index:self.index + self.batch_size - 1])\n",
    "            self.index += self.batch_size\n",
    "            \n",
    "    def padding(self, batch):\n",
    "        batch_length = batch[\"length\"]\n",
    "        max_length = np.max(batch_length)\n",
    "        inputs = batch[\"as_numbers\"]\n",
    "        padded_inputs = np.zeros((batch.shape[0], max_length), dtype=int)\n",
    "        for i, (input_, length)  in enumerate(zip(inputs, batch_length)):\n",
    "            padded_inputs[i, :length] = input_\n",
    "        target = batch[\"gender\"] * 3 + batch[\"age_bracket\"]\n",
    "        \n",
    "        return padded_inputs, target.values, batch_length.values"
   ]
  },
  {
   "cell_type": "code",
   "execution_count": 9,
   "metadata": {
    "collapsed": false
   },
   "outputs": [
    {
     "name": "stdout",
     "output_type": "stream",
     "text": [
      "input_sequnece\n",
      " [[  20   35  265    1   32   97  285    9  443    5 8106  101 2194    2\n",
      "     0    0    0    0    0    0]\n",
      " [  27    3   73 1002   76  222    5  700  418  736 4594   82   34   76\n",
      "    18  222    0    0    0    0]\n",
      " [   9  138    0  144   28 1147   23  240 2772    5  277   78  295   38\n",
      "    82   38    7 1948   97    2]\n",
      " [   3  671  161 2139    1    6  692   91   17  130 2229   16   19    2\n",
      "     0    0    0    0    0    0]\n",
      " [   3  167  168 6031    2    6  111   93    5  336    2    0    0    0\n",
      "     0    0    0    0    0    0]] \n",
      "\n",
      "\n",
      "length\n",
      " [14 16 20 14 11] \n",
      "\n",
      "\n"
     ]
    }
   ],
   "source": [
    "train_data = iter(PaddedIterator(train, 5))\n",
    "data = next(train_data)\n",
    "print(\"input_sequnece\\n\", data[0], \"\\n\\n\")\n",
    "print(\"length\\n\", data[2], \"\\n\\n\")"
   ]
  },
  {
   "cell_type": "markdown",
   "metadata": {},
   "source": [
    "It is important to note here that we are using the same symbol for < PAD > and < UNKNOWN > keywords."
   ]
  },
  {
   "cell_type": "code",
   "execution_count": 10,
   "metadata": {
    "collapsed": true
   },
   "outputs": [],
   "source": [
    "def reset_graph():\n",
    "    \"\"\"\n",
    "    check wheter the `sess` variables exit in the global frame. If it exist and it is actually a tensorflow session, \n",
    "    then close it. Reset all the variables in the default session.  \n",
    "    \"\"\"\n",
    "    if \"sess\" in globals() and sess:\n",
    "        sess.close()\n",
    "    tf.reset_default_graph()    "
   ]
  },
  {
   "cell_type": "code",
   "execution_count": 11,
   "metadata": {
    "collapsed": true
   },
   "outputs": [],
   "source": [
    "def build_graph(\n",
    "        vocab_size=len(vocab),\n",
    "        state_size=64,\n",
    "        batch_size=256,\n",
    "        num_classes=6,\n",
    "        learning_rate=0.001):\n",
    "    \n",
    "    reset_graph()\n",
    "    \n",
    "    #placeholders\n",
    "    x = tf.placeholder(tf.int32, shape=(batch_size, None), name=\"x\")\n",
    "    y = tf.placeholder(tf.int32, shape=(batch_size), name=\"y\")\n",
    "    seqlen = tf.placeholder(tf.int32, shape=(batch_size,), name=\"sequence_length\")\n",
    "    \n",
    "    # word embeddings\n",
    "    W_embeddings = tf.get_variable(\"embeddings\", shape=(vocab_size, state_size), \n",
    "                                   initializer=tf.contrib.layers.xavier_initializer())\n",
    "    #rnn_inputs\n",
    "    rnn_inputs = tf.nn.embedding_lookup(W_embeddings, x)\n",
    "    \n",
    "    #LSTM cell\n",
    "    lstm_cell = tf.nn.rnn_cell.BasicLSTMCell(state_size)\n",
    "    \n",
    "    #LSTM layer\n",
    "    outputs, final_states = tf.nn.dynamic_rnn(lstm_cell, rnn_inputs, seqlen,\n",
    "                                   initial_state=lstm_cell.zero_state(batch_size, tf.float32))\n",
    "    \n",
    "    # gathering the output from the last layer\n",
    "    # a simple solution using tf.gather_nd\n",
    "    # final_outputs = tf.gather_nd(outputs, tf.pack([tf.range(batch_size), seqlen - 1], axis=1))\n",
    "    \n",
    "    ids = tf.shape(outputs)[1] * tf.range(batch_size) + seqlen - 1\n",
    "    final_outputs = tf.gather(tf.reshape(outputs, [-1, state_size]), ids)\n",
    "    \n",
    "    # Softmax layer\n",
    "    W_softmax = tf.get_variable(\"softmax_w\", shape=(state_size, num_classes), \n",
    "                                initializer=tf.contrib.layers.xavier_initializer())\n",
    "    b_softmax = tf.get_variable(\"softmax_b\", shape=(num_classes,), initializer=tf.constant_initializer(0.0))\n",
    "    \n",
    "    #logits\n",
    "    logit = tf.matmul(final_outputs, W_softmax) + b_softmax\n",
    "    loss = tf.reduce_mean(tf.nn.sparse_softmax_cross_entropy_with_logits(logit, y))\n",
    "    \n",
    "    #metrics\n",
    "    predictions = tf.nn.softmax(logit)\n",
    "    correct = tf.cast(tf.equal(tf.cast(tf.argmax(predictions, dimension=1), tf.int32), y), tf.float32)\n",
    "    accuracy = tf.reduce_mean(correct)\n",
    "    \n",
    "    #update\n",
    "    optimizer = tf.train.AdamOptimizer(learning_rate=learning_rate)\n",
    "    train_op = optimizer.minimize(loss)\n",
    "    \n",
    "    return {\"x\": x,\n",
    "            \"y\": y,\n",
    "            \"seqlen\": seqlen,\n",
    "            \"loss\": loss,\n",
    "            \"train_op\": train_op,\n",
    "            \"accuracy\": accuracy}"
   ]
  },
  {
   "cell_type": "code",
   "execution_count": 39,
   "metadata": {
    "collapsed": false
   },
   "outputs": [],
   "source": [
    "def train_graph(graph, batch_size=256, DataIterator=PaddedIterator, num_epochs=1):\n",
    "    losses, tr_accuracies = [], []\n",
    "    with tf.Session() as sess:\n",
    "        sess.run(tf.initialize_all_variables())\n",
    "        for epoch in range(num_epochs):\n",
    "            tr_data = iter(DataIterator(train, 256))\n",
    "            te_data = iter(DataIterator(test, 256))\n",
    "            tr_accuracy = 0\n",
    "            te_accuracy = 0\n",
    "            for i, (x, y, seqlen) in enumerate(tr_data):\n",
    "                tr_accuracy_, loss, _ = sess.run([graph[\"accuracy\"], graph[\"loss\"], graph[\"train_op\"]], \n",
    "                                            {graph[\"x\"]: x, graph[\"y\"]: y, graph[\"seqlen\"]: seqlen})\n",
    "                tr_accuracy += tr_accuracy_\n",
    "                if (i  % 100) == 0:\n",
    "                    losses.append(loss)\n",
    "                    tr_accuracies.append(tr_accuracy / 100)\n",
    "                    tr_accuracy = 0\n",
    "            \n",
    "            for i, (x, y, seqlen) in enumerate(te_data):\n",
    "                te_accuracy_ = sess.run(graph[\"accuracy\"],\n",
    "                                            {graph[\"x\"]: x, graph[\"y\"]: y, graph[\"seqlen\"]: seqlen})\n",
    "                te_accuracy += te_accuracy_\n",
    "            print(\"The testing accuracy of the model after {0} is {1}\".format(epoch, te_accuracy / i))\n",
    "            te_accuracy = 0\n",
    "            \n",
    "    return losses, tr_accuracies"
   ]
  },
  {
   "cell_type": "code",
   "execution_count": 13,
   "metadata": {
    "collapsed": false
   },
   "outputs": [
    {
     "name": "stderr",
     "output_type": "stream",
     "text": [
      "/home/drl/anaconda2/envs/tensorflow/lib/python3.4/site-packages/tensorflow/python/ops/gradients.py:90: UserWarning: Converting sparse IndexedSlices to a dense Tensor of unknown shape. This may consume a large amount of memory.\n",
      "  \"Converting sparse IndexedSlices to a dense Tensor of unknown shape. \"\n"
     ]
    }
   ],
   "source": [
    "reset_graph()\n",
    "graph = build_graph()"
   ]
  },
  {
   "cell_type": "code",
   "execution_count": 14,
   "metadata": {
    "collapsed": false
   },
   "outputs": [
    {
     "name": "stdout",
     "output_type": "stream",
     "text": [
      "The testing accuracy of the model after 0 is 0.3594142917015926\n",
      "Time in running one epoch is 19.68\n"
     ]
    }
   ],
   "source": [
    "tic = time.time()\n",
    "loss, accuracy = train_graph(graph)\n",
    "toc = time.time()\n",
    "print(\"Time in running one epoch is {0:0.2f}\".format((toc - tic) / 60))"
   ]
  },
  {
   "cell_type": "code",
   "execution_count": 15,
   "metadata": {
    "collapsed": false
   },
   "outputs": [
    {
     "data": {
      "text/plain": [
       "<matplotlib.text.Text at 0x7f1f6a3af7f0>"
      ]
     },
     "execution_count": 15,
     "metadata": {},
     "output_type": "execute_result"
    },
    {
     "data": {
      "image/png": "[encoded data removed]",
      "text/plain": [
       "<matplotlib.figure.Figure at 0x7f1f6bc45ba8>"
      ]
     },
     "metadata": {},
     "output_type": "display_data"
    }
   ],
   "source": [
    "plt.figure(figsize=(15, 5))\n",
    "plt.subplot(1, 2, 1)\n",
    "plt.plot(np.concatenate([[accuracy[0] * 100], accuracy[1:]]))\n",
    "plt.ylabel(\"accuracy\")\n",
    "plt.subplot(1, 2, 2)\n",
    "plt.plot(loss)\n",
    "plt.ylabel(\"loss\")"
   ]
  },
  {
   "cell_type": "markdown",
   "metadata": {},
   "source": [
    "### How many extra computations are being done here?"
   ]
  },
  {
   "cell_type": "code",
   "execution_count": 16,
   "metadata": {
    "collapsed": false
   },
   "outputs": [
    {
     "name": "stdout",
     "output_type": "stream",
     "text": [
      "The excess comuputations per input is 12.75 extra inputs\n"
     ]
    }
   ],
   "source": [
    "data = iter(PaddedIterator(train, 256))\n",
    "avg_extra_bits = 0\n",
    "for _ in range(100):\n",
    "    _, _, seqlen = next(data)\n",
    "    avg_extra_bits += np.mean(max(seqlen) - seqlen)\n",
    "print(\"The excess comuputations per input is {0:0.2f} extra inputs\".format(avg_extra_bits / 100))"
   ]
  },
  {
   "cell_type": "markdown",
   "metadata": {},
   "source": [
    "### How can we redcue the computations?"
   ]
  },
  {
   "cell_type": "markdown",
   "metadata": {},
   "source": [
    "We cannot just sort the input and feed it to the RNN, because then our model will be biased and it will assume that first the weights will adapt according to the sort-length inputs and then to the long-length input. We are unneccessary introducing this biasedness in the model. Instead of that, a better idea is to divide the data into different chunks according to their length and then select a chunk randomly and then select a batch from a chunk. "
   ]
  },
  {
   "cell_type": "code",
   "execution_count": 17,
   "metadata": {
    "collapsed": false
   },
   "outputs": [],
   "source": [
    "length_value_counts = train.length.value_counts(sort=False)"
   ]
  },
  {
   "cell_type": "code",
   "execution_count": 18,
   "metadata": {
    "collapsed": false
   },
   "outputs": [
    {
     "data": {
      "text/plain": [
       "<matplotlib.axes._subplots.AxesSubplot at 0x7f1f6bc456d8>"
      ]
     },
     "execution_count": 18,
     "metadata": {},
     "output_type": "execute_result"
    },
    {
     "data": {
      "image/png": "[encoded data removed]",
      "text/plain": [
       "<matplotlib.figure.Figure at 0x7f1f6a2e3ac8>"
      ]
     },
     "metadata": {},
     "output_type": "display_data"
    }
   ],
   "source": [
    "length_value_counts.plot(kind=\"bar\")"
   ]
  },
  {
   "cell_type": "code",
   "execution_count": 19,
   "metadata": {
    "collapsed": false
   },
   "outputs": [
    {
     "data": {
      "text/plain": [
       "<matplotlib.axes._subplots.AxesSubplot at 0x7f1f6a048358>"
      ]
     },
     "execution_count": 19,
     "metadata": {},
     "output_type": "execute_result"
    },
    {
     "data": {
      "image/png": "[encoded data removed]",
      "text/plain": [
       "<matplotlib.figure.Figure at 0x7f1f6a067320>"
      ]
     },
     "metadata": {},
     "output_type": "display_data"
    }
   ],
   "source": [
    "pd.value_counts(train.length, sort=False, bins=[4, 11, 14, 18, 23, 30]).plot(kind=\"bar\")"
   ]
  },
  {
   "cell_type": "code",
   "execution_count": 20,
   "metadata": {
    "collapsed": true
   },
   "outputs": [],
   "source": [
    "class PaddedBucketedIterator(object):\n",
    "    def __init__(self, df, batch_size):\n",
    "        self.df = df\n",
    "        self.batch_size = batch_size\n",
    "        self.bucket_boundaries = [4, 11, 14, 18, 23, 30]\n",
    "        self.dfs = []\n",
    "        for i in range(len(self.bucket_boundaries) - 1):\n",
    "            self.dfs.append((self.df[(self.df.length > self.bucket_boundaries[i]) & \n",
    "                                    (self.df.length <= self.bucket_boundaries[i + 1])]\n",
    "                             .reset_index()))\n",
    "        self.num_buckets = len(self.dfs)\n",
    "        self.indexes = [0] * self.num_buckets\n",
    "        \n",
    "    def __iter__(self):\n",
    "        while self.dfs: \n",
    "            bucket_number = np.random.choice(len(self.dfs))\n",
    "            df = self.dfs[bucket_number]\n",
    "            index = self.indexes[bucket_number]\n",
    "            if index + self.batch_size < len(df):\n",
    "                yield self.padding(df.ix[index:index + self.batch_size - 1])\n",
    "                self.indexes[bucket_number] += self.batch_size\n",
    "            else:\n",
    "                self.dfs.pop(bucket_number)\n",
    "            \n",
    "    def padding(self, batch):\n",
    "        batch_length = batch[\"length\"]\n",
    "        max_length = np.max(batch_length)\n",
    "        inputs = batch[\"as_numbers\"]\n",
    "        padded_inputs = np.zeros((batch.shape[0], max_length), dtype=int)\n",
    "        for i, (input_, length)  in enumerate(zip(inputs, batch_length)):\n",
    "            padded_inputs[i, :length] = input_\n",
    "        target = batch[\"gender\"] * 3 + batch[\"age_bracket\"]\n",
    "        \n",
    "        return padded_inputs, target.values, batch_length.values"
   ]
  },
  {
   "cell_type": "markdown",
   "metadata": {},
   "source": [
    "### After bucketing, how many extra computations that we are doing?"
   ]
  },
  {
   "cell_type": "code",
   "execution_count": 21,
   "metadata": {
    "collapsed": false
   },
   "outputs": [
    {
     "name": "stdout",
     "output_type": "stream",
     "text": [
      "The excess comuputations per input is 1.71 extra inputs\n"
     ]
    }
   ],
   "source": [
    "data = iter(PaddedBucketedIterator(train, 256))\n",
    "avg_extra_bits = 0\n",
    "for _ in range(100):\n",
    "    _, _, seqlen = next(data)\n",
    "    avg_extra_bits += np.mean(max(seqlen) - seqlen)\n",
    "print(\"The excess comuputations per input is {0:0.2f} extra inputs\".format(avg_extra_bits / 100))"
   ]
  },
  {
   "cell_type": "markdown",
   "metadata": {},
   "source": [
    "### Training using a bucketed iterator (It should be faster than the previous iterator.)"
   ]
  },
  {
   "cell_type": "code",
   "execution_count": 42,
   "metadata": {
    "collapsed": false
   },
   "outputs": [],
   "source": [
    "graph = build_graph()"
   ]
  },
  {
   "cell_type": "code",
   "execution_count": 43,
   "metadata": {
    "collapsed": false
   },
   "outputs": [
    {
     "name": "stdout",
     "output_type": "stream",
     "text": [
      "The testing accuracy of the model after 0 is 0.3469278685467905\n",
      "Time in running one epoch is 8.96\n"
     ]
    }
   ],
   "source": [
    "tic = time.time()\n",
    "loss, accuracy = train_graph(graph, DataIterator=PaddedBucketedIterator)\n",
    "toc = time.time()\n",
    "print(\"Time in running one epoch is {0:0.2f}\".format((toc - tic) / 60))"
   ]
  },
  {
   "cell_type": "code",
   "execution_count": 44,
   "metadata": {
    "collapsed": false
   },
   "outputs": [
    {
     "data": {
      "text/plain": [
       "<matplotlib.text.Text at 0x7f1f60537080>"
      ]
     },
     "execution_count": 44,
     "metadata": {},
     "output_type": "execute_result"
    },
    {
     "data": {
      "image/png": "[encoded data removed]",
      "text/plain": [
       "<matplotlib.figure.Figure at 0x7f1f6bdbd128>"
      ]
     },
     "metadata": {},
     "output_type": "display_data"
    }
   ],
   "source": [
    "plt.figure(figsize=(15, 5))\n",
    "plt.subplot(1, 2, 1)\n",
    "plt.plot(np.concatenate([[accuracy[0] * 100], accuracy[1:]]))\n",
    "plt.ylabel(\"accuracy\")\n",
    "plt.subplot(1, 2, 2)\n",
    "plt.plot(loss)\n",
    "plt.ylabel(\"loss\")"
   ]
  },
  {
   "cell_type": "markdown",
   "metadata": {},
   "source": [
    "** In this demonstration, bucketing increased the training speed by 50 %. **"
   ]
  },
  {
   "cell_type": "markdown",
   "metadata": {},
   "source": [
    "### How can we use the RNN to make predictions of age and gender at every time slot?"
   ]
  },
  {
   "cell_type": "markdown",
   "metadata": {},
   "source": [
    "Here I need to take care of few things:\n",
    "1. To pass a batch from RNN, I need to make all the inputs sequence of same length.\n",
    "2. To make them same length, I have to pad them with extra `padded bits`.\n",
    "3. However, these padded bits do not contribute in computing losses.\n",
    "4. So when we compute loss, we need to make their loss 0. We can use a masker that will make their loss 0. In backpropogation, when we do multiplication, the gradient is multiplied by the opposite term. Hence by multiplying the masker, no gradient will propogate for the padded bits.\n",
    "5. In this graph, I will also learn the initial state of the LSTM."
   ]
  },
  {
   "cell_type": "code",
   "execution_count": 91,
   "metadata": {
    "collapsed": false
   },
   "outputs": [],
   "source": [
    "def build_graph(\n",
    "        vocab_size=len(vocab),\n",
    "        state_size=64,\n",
    "        batch_size=256,\n",
    "        num_classes=6,\n",
    "        learning_rate=0.001):\n",
    "    \n",
    "    reset_graph()\n",
    "    \n",
    "    #placeholders\n",
    "    x = tf.placeholder(tf.int32, shape=(batch_size, None), name=\"x\")\n",
    "    y = tf.placeholder(tf.int32, shape=(batch_size,), name=\"y\")\n",
    "    seqlen = tf.placeholder(tf.int32, shape=(batch_size,), name=\"sequence_length\")\n",
    "    \n",
    "    #Change y\n",
    "    y_ = tf.tile(tf.expand_dims(y, 1), [1, tf.shape(x)[1]])\n",
    "    y_ = tf.reshape(y_, (-1,))\n",
    "    \n",
    "    #mask for computing the loss\n",
    "    mask = tf.cast(tf.sequence_mask(seqlen, tf.shape(x)[1]), tf.float32)\n",
    "    mask = tf.reshape(mask, (-1,))\n",
    "    \n",
    "    # word embeddings\n",
    "    W_embeddings = tf.get_variable(\"embeddings\", shape=(vocab_size, state_size), \n",
    "                                   initializer=tf.contrib.layers.xavier_initializer())\n",
    "    #rnn_inputs\n",
    "    rnn_inputs = tf.nn.embedding_lookup(W_embeddings, x)\n",
    "    \n",
    "    #GRU cell\n",
    "    gru_cell = tf.nn.rnn_cell.GRUCell(state_size)\n",
    "    init_state = tf.get_variable(\"init_state\", shape=(1, state_size), \n",
    "                                 initializer=tf.constant_initializer(0.0))\n",
    "    init_state = tf.tile(init_state, [batch_size, 1])\n",
    "    \n",
    "    #GRU layer\n",
    "    outputs, final_states = tf.nn.dynamic_rnn(gru_cell, rnn_inputs, seqlen,\n",
    "                                   initial_state=init_state)\n",
    "    outputs = tf.reshape(outputs, [-1, state_size])\n",
    "    \n",
    "    # Softmax layer\n",
    "    W_softmax = tf.get_variable(\"softmax_w\", shape=(state_size, num_classes), \n",
    "                                initializer=tf.contrib.layers.xavier_initializer())\n",
    "    b_softmax = tf.get_variable(\"softmax_b\", shape=(num_classes,), initializer=tf.constant_initializer(0.0))\n",
    "    \n",
    "    #logits\n",
    "    logits = tf.matmul(outputs, W_softmax) + b_softmax\n",
    "    \n",
    "    #losses\n",
    "    losses = tf.nn.sparse_softmax_cross_entropy_with_logits(logits, y_)\n",
    "    masked_losses = tf.mul(mask, losses)\n",
    "    total_loss = tf.reduce_sum(masked_losses) / tf.cast(tf.reduce_sum(seqlen), tf.float32)\n",
    "    \n",
    "    #metrics\n",
    "    predictions = tf.nn.softmax(logits)\n",
    "    correct = tf.equal(tf.cast(tf.argmax(predictions, dimension=1), tf.int32), y_) \n",
    "    correct = tf.cast(correct, tf.float32) * mask\n",
    "    accuracy = tf.reduce_sum(correct) / tf.cast(tf.reduce_sum(seqlen), tf.float32)\n",
    "    \n",
    "    #update\n",
    "    optimizer = tf.train.AdamOptimizer(learning_rate=learning_rate)\n",
    "    train_op = optimizer.minimize(total_loss)\n",
    "    return {\"x\": x,\n",
    "            \"y\": y,\n",
    "            \"seqlen\": seqlen,\n",
    "            \"loss\": total_loss,\n",
    "            \"train_op\": train_op,\n",
    "            \"accuracy\": accuracy}\n"
   ]
  },
  {
   "cell_type": "code",
   "execution_count": 92,
   "metadata": {
    "collapsed": false
   },
   "outputs": [],
   "source": [
    "g = build_graph()"
   ]
  },
  {
   "cell_type": "code",
   "execution_count": 93,
   "metadata": {
    "collapsed": false
   },
   "outputs": [
    {
     "name": "stdout",
     "output_type": "stream",
     "text": [
      "The testing accuracy of the model after 0 is 0.32379377424878336\n",
      "the time taken to run one epoch is 13.08\n"
     ]
    }
   ],
   "source": [
    "tic = time.time()\n",
    "loss, accuracy = train_graph(g, DataIterator=PaddedBucketedIterator)\n",
    "toc = time.time()\n",
    "print(\"the time taken to run one epoch is {0:0.2f}\".format((toc - tic) / 60))"
   ]
  },
  {
   "cell_type": "code",
   "execution_count": 94,
   "metadata": {
    "collapsed": false
   },
   "outputs": [
    {
     "data": {
      "text/plain": [
       "<matplotlib.text.Text at 0x7f1f30f788d0>"
      ]
     },
     "execution_count": 94,
     "metadata": {},
     "output_type": "execute_result"
    },
    {
     "data": {
      "image/png": "[encoded data removed]",
      "text/plain": [
       "<matplotlib.figure.Figure at 0x7f1f316514a8>"
      ]
     },
     "metadata": {},
     "output_type": "display_data"
    }
   ],
   "source": [
    "plt.figure(figsize=(15, 5))\n",
    "plt.subplot(1, 2, 1)\n",
    "plt.plot(np.concatenate([[accuracy[0] * 100], accuracy[1:]]))\n",
    "plt.ylabel(\"accuracy\")\n",
    "plt.subplot(1, 2, 2)\n",
    "plt.plot(loss)\n",
    "plt.ylabel(\"loss\")"
   ]
  },
  {
   "cell_type": "markdown",
   "metadata": {},
   "source": [
    "We get less accuracy in `sequence 2 sequence` prediction model than in `sequence prediction` because at the initial time-steps there is no information available for the network to predict aga-group."
   ]
  },
  {
   "cell_type": "markdown",
   "metadata": {},
   "source": [
    "#### small experimental setups"
   ]
  },
  {
   "cell_type": "code",
   "execution_count": 45,
   "metadata": {
    "collapsed": true
   },
   "outputs": [],
   "source": [
    "batch_size = 5 \n",
    "state_size = 5\n",
    "vocab_size = 5"
   ]
  },
  {
   "cell_type": "code",
   "execution_count": 69,
   "metadata": {
    "collapsed": false
   },
   "outputs": [],
   "source": [
    "sess.close()\n",
    "tf.reset_default_graph()\n",
    "x = tf.placeholder(tf.int32, shape=(batch_size, None), name=\"x\")\n",
    "y = tf.placeholder(tf.int32, shape=(batch_size,), name=\"y\")\n",
    "seqlen = tf.placeholder(tf.int32, shape=(batch_size,), name=\"sequence_length\")\n",
    "\n",
    "#Change y\n",
    "y_ = tf.tile(tf.expand_dims(y, 1), [1, tf.shape(x)[1]])\n",
    "\n",
    "#mask for computing the loss\n",
    "mask = tf.sequence_mask(seqlen, tf.shape(x)[1])\n",
    "\n",
    "# word embeddings\n",
    "W_embeddings = tf.get_variable(\"embeddings\", shape=(vocab_size, state_size), \n",
    "                               initializer=tf.contrib.layers.xavier_initializer())\n",
    "#rnn_inputs\n",
    "rnn_inputs = tf.nn.embedding_lookup(W_embeddings, x)\n",
    "\n",
    "#GRU cell\n",
    "gru_cell = tf.nn.rnn_cell.GRUCell(state_size)\n",
    "init_state = tf.get_variable(\"init_state\", shape=(1, state_size), \n",
    "                             initializer=tf.constant_initializer(0.0))\n",
    "init_state = tf.tile(init_state, [batch_size, 1])\n",
    "\n",
    "#GRU layer\n",
    "outputs, final_states = tf.nn.dynamic_rnn(gru_cell, rnn_inputs, seqlen,\n",
    "                               initial_state=init_state)\n",
    "# softmax\n",
    "W_softmax = tf.get_variable(\"softmax_w\", shape=(state_size, num_classes), \n",
    "                            initializer=tf.contrib.layers.xavier_initializer())\n",
    "b_softmax = tf.get_variable(\"softmax_b\", shape=(num_classes,), initializer=tf.constant_initializer(0.0))\n"
   ]
  },
  {
   "cell_type": "code",
   "execution_count": 70,
   "metadata": {
    "collapsed": true
   },
   "outputs": [],
   "source": [
    "x_ = [[1, 2, 0], [1, 1, 2], [3, 2, 0], [2, 1, 4], [2, 4, 3]]\n",
    "y1 = [1, 2, 3, 0, 4]\n",
    "seqlen_ = [2, 3, 2, 3, 3]"
   ]
  },
  {
   "cell_type": "code",
   "execution_count": 71,
   "metadata": {
    "collapsed": true
   },
   "outputs": [],
   "source": [
    "sess = tf.InteractiveSession()"
   ]
  },
  {
   "cell_type": "code",
   "execution_count": 75,
   "metadata": {
    "collapsed": false
   },
   "outputs": [],
   "source": [
    "sess.run(tf.initialize_all_variables())\n",
    "feed_dict = {x: x_, y: y1, seqlen:seqlen_}"
   ]
  },
  {
   "cell_type": "code",
   "execution_count": 76,
   "metadata": {
    "collapsed": false
   },
   "outputs": [
    {
     "data": {
      "text/plain": [
       "array([[ 0.06025794, -0.03353748,  0.01060029,  0.06055411,  0.05844268],\n",
       "       [ 0.11058003,  0.05836005, -0.11269359,  0.10925433,  0.06435023],\n",
       "       [ 0.        ,  0.        ,  0.        ,  0.        ,  0.        ],\n",
       "       [ 0.06025794, -0.03353748,  0.01060029,  0.06055411,  0.05844268],\n",
       "       [ 0.10036166, -0.05334779,  0.0102554 ,  0.10533797,  0.09886517],\n",
       "       [ 0.13588829,  0.05123869, -0.11799487,  0.13865218,  0.09238912],\n",
       "       [-0.06522267,  0.10463995, -0.21779805, -0.06073106,  0.0482189 ],\n",
       "       [ 0.05833961,  0.13954523, -0.24763361,  0.00957109,  0.0558544 ],\n",
       "       [ 0.        ,  0.        ,  0.        ,  0.        ,  0.        ],\n",
       "       [ 0.07376681,  0.07268513, -0.11097097,  0.06933933,  0.02259026],\n",
       "       [ 0.11855976,  0.02634065, -0.07345184,  0.10759062,  0.06398816],\n",
       "       [-0.00089759, -0.00189805, -0.07124263, -0.04999942,  0.07410802],\n",
       "       [ 0.07376681,  0.07268513, -0.11097097,  0.06933933,  0.02259027],\n",
       "       [-0.0350235 ,  0.02852054, -0.0879336 , -0.07842451,  0.04224605],\n",
       "       [-0.07719733,  0.11783078, -0.2671288 , -0.12190893,  0.08081208]], dtype=float32)"
      ]
     },
     "execution_count": 76,
     "metadata": {},
     "output_type": "execute_result"
    }
   ],
   "source": [
    "sess.run(outputs, feed_dict)"
   ]
  },
  {
   "cell_type": "code",
   "execution_count": 77,
   "metadata": {
    "collapsed": false
   },
   "outputs": [
    {
     "data": {
      "text/plain": [
       "array([[ 0.06025794, -0.03353748,  0.01060029,  0.06055411,  0.05844268],\n",
       "       [ 0.11058003,  0.05836005, -0.11269359,  0.10925433,  0.06435023],\n",
       "       [ 0.        ,  0.        ,  0.        ,  0.        ,  0.        ],\n",
       "       [ 0.06025794, -0.03353748,  0.01060029,  0.06055411,  0.05844268],\n",
       "       [ 0.10036166, -0.05334779,  0.0102554 ,  0.10533797,  0.09886517],\n",
       "       [ 0.13588829,  0.05123869, -0.11799487,  0.13865218,  0.09238912],\n",
       "       [-0.06522267,  0.10463995, -0.21779805, -0.06073106,  0.0482189 ],\n",
       "       [ 0.05833961,  0.13954523, -0.24763361,  0.00957109,  0.0558544 ],\n",
       "       [ 0.        ,  0.        ,  0.        ,  0.        ,  0.        ],\n",
       "       [ 0.07376681,  0.07268513, -0.11097097,  0.06933933,  0.02259026],\n",
       "       [ 0.11855976,  0.02634065, -0.07345184,  0.10759062,  0.06398816],\n",
       "       [-0.00089759, -0.00189805, -0.07124263, -0.04999942,  0.07410802],\n",
       "       [ 0.07376681,  0.07268513, -0.11097097,  0.06933933,  0.02259027],\n",
       "       [-0.0350235 ,  0.02852054, -0.0879336 , -0.07842451,  0.04224605],\n",
       "       [-0.07719733,  0.11783078, -0.2671288 , -0.12190893,  0.08081208]], dtype=float32)"
      ]
     },
     "execution_count": 77,
     "metadata": {},
     "output_type": "execute_result"
    }
   ],
   "source": [
    "outputs = tf.reshape(outputs, [-1, state_size])\n",
    "sess.run(outputs, feed_dict)"
   ]
  },
  {
   "cell_type": "code",
   "execution_count": 78,
   "metadata": {
    "collapsed": false
   },
   "outputs": [],
   "source": [
    "# Softmax layer\n",
    "num_classes = 6"
   ]
  },
  {
   "cell_type": "code",
   "execution_count": 79,
   "metadata": {
    "collapsed": false
   },
   "outputs": [],
   "source": [
    "logits = tf.matmul(outputs, W_softmax) + b_softmax"
   ]
  },
  {
   "cell_type": "code",
   "execution_count": 80,
   "metadata": {
    "collapsed": false
   },
   "outputs": [
    {
     "data": {
      "text/plain": [
       "array([[1, 1, 1],\n",
       "       [2, 2, 2],\n",
       "       [3, 3, 3],\n",
       "       [0, 0, 0],\n",
       "       [4, 4, 4]], dtype=int32)"
      ]
     },
     "execution_count": 80,
     "metadata": {},
     "output_type": "execute_result"
    }
   ],
   "source": [
    "sess.run(y_, feed_dict)"
   ]
  },
  {
   "cell_type": "code",
   "execution_count": 81,
   "metadata": {
    "collapsed": true
   },
   "outputs": [],
   "source": [
    "y1_ = tf.reshape(y_, (-1,))"
   ]
  },
  {
   "cell_type": "code",
   "execution_count": 82,
   "metadata": {
    "collapsed": false
   },
   "outputs": [
    {
     "data": {
      "text/plain": [
       "array([1, 1, 1, 2, 2, 2, 3, 3, 3, 0, 0, 0, 4, 4, 4], dtype=int32)"
      ]
     },
     "execution_count": 82,
     "metadata": {},
     "output_type": "execute_result"
    }
   ],
   "source": [
    "sess.run(y1_, feed_dict)"
   ]
  },
  {
   "cell_type": "code",
   "execution_count": 83,
   "metadata": {
    "collapsed": false
   },
   "outputs": [],
   "source": [
    "loss = tf.nn.sparse_softmax_cross_entropy_with_logits(logits, y1_)"
   ]
  },
  {
   "cell_type": "code",
   "execution_count": 85,
   "metadata": {
    "collapsed": true
   },
   "outputs": [],
   "source": [
    "masked_array = tf.sequence_mask(seqlen, tf.shape(x)[1])"
   ]
  },
  {
   "cell_type": "code",
   "execution_count": 86,
   "metadata": {
    "collapsed": false
   },
   "outputs": [],
   "source": [
    "masked_array = tf.cast(tf.reshape(masked_array, (-1, )), dtype=tf.float32)"
   ]
  },
  {
   "cell_type": "code",
   "execution_count": 87,
   "metadata": {
    "collapsed": false
   },
   "outputs": [
    {
     "data": {
      "text/plain": [
       "array([ 1.,  1.,  0.,  1.,  1.,  1.,  1.,  1.,  0.,  1.,  1.,  1.,  1.,\n",
       "        1.,  1.], dtype=float32)"
      ]
     },
     "execution_count": 87,
     "metadata": {},
     "output_type": "execute_result"
    }
   ],
   "source": [
    "sess.run(masked_array, feed_dict)"
   ]
  },
  {
   "cell_type": "code",
   "execution_count": null,
   "metadata": {
    "collapsed": false
   },
   "outputs": [],
   "source": [
    "masked_loss = masked_array * loss"
   ]
  },
  {
   "cell_type": "code",
   "execution_count": null,
   "metadata": {
    "collapsed": false
   },
   "outputs": [],
   "source": [
    "total_loss = tf.reduce_sum(masked_loss) / tf.cast(tf.reduce_sum(seqlen), tf.float32)"
   ]
  },
  {
   "cell_type": "code",
   "execution_count": null,
   "metadata": {
    "collapsed": false
   },
   "outputs": [],
   "source": [
    "sess.run(total_loss, feed_dict)"
   ]
  },
  {
   "cell_type": "code",
   "execution_count": null,
   "metadata": {
    "collapsed": true
   },
   "outputs": [],
   "source": [
    "predictions = tf.cast(tf.argmax(tf.nn.softmax(logits), dimension=1), dtype=tf.int32)"
   ]
  },
  {
   "cell_type": "code",
   "execution_count": null,
   "metadata": {
    "collapsed": false
   },
   "outputs": [],
   "source": [
    "correct = tf.cast(tf.equal(predictions, y1_), tf.float32)"
   ]
  },
  {
   "cell_type": "code",
   "execution_count": null,
   "metadata": {
    "collapsed": false
   },
   "outputs": [],
   "source": [
    "masked_correct = correct * masked_array"
   ]
  },
  {
   "cell_type": "code",
   "execution_count": null,
   "metadata": {
    "collapsed": true
   },
   "outputs": [],
   "source": [
    "total_correct = tf.reduce_sum(masked_correct) / tf.cast(tf.reduce_sum(seqlen), tf.float32)"
   ]
  },
  {
   "cell_type": "code",
   "execution_count": null,
   "metadata": {
    "collapsed": false
   },
   "outputs": [],
   "source": [
    "sess.run(total_correct, feed_dict)"
   ]
  },
  {
   "cell_type": "code",
   "execution_count": null,
   "metadata": {
    "collapsed": true
   },
   "outputs": [],
   "source": []
  }
 ],
 "metadata": {
  "kernelspec": {
   "display_name": "Python 3",
   "language": "python",
   "name": "python3"
  },
  "language_info": {
   "codemirror_mode": {
    "name": "ipython",
    "version": 3
   },
   "file_extension": ".py",
   "mimetype": "text/x-python",
   "name": "python",
   "nbconvert_exporter": "python",
   "pygments_lexer": "ipython3",
   "version": "3.4.5"
  }
 },
 "nbformat": 4,
 "nbformat_minor": 0
}
